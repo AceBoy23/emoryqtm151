{
 "cells": [
  {
   "attachments": {},
   "cell_type": "markdown",
   "metadata": {},
   "source": [
    "# <span style=\"color:darkblue\"> Lecture 16 - Practicing Chaining </span>\n",
    "\n",
    "<font size = \"5\">\n",
    "\n",
    "In this lecture you will get a chance to practice <br>\n",
    "the main dataset operations\n",
    "\n",
    "- There will be a quiz on this lecture"
   ]
  },
  {
   "attachments": {},
   "cell_type": "markdown",
   "metadata": {},
   "source": [
    "# <span style=\"color:darkblue\"> I. Import Libraries and Data </span>\n"
   ]
  },
  {
   "cell_type": "code",
   "execution_count": null,
   "metadata": {},
   "outputs": [
    {
     "ename": "",
     "evalue": "",
     "output_type": "error",
     "traceback": [
      "\u001b[1;31mFailed to start the Kernel. \n",
      "\u001b[1;31mEPERM: operation not permitted, scandir '/Users/aarinbindlish/Desktop/_EMORYYEAR1_/QTM151/qtm151lecture/Lecture 16'. \n",
      "\u001b[1;31mView Jupyter <a href='command:jupyter.viewOutput'>log</a> for further details."
     ]
    }
   ],
   "source": [
    "import numpy as np\n",
    "import pandas as pd"
   ]
  },
  {
   "cell_type": "code",
   "execution_count": 38,
   "metadata": {},
   "outputs": [],
   "source": [
    "results  = pd.read_csv(\"data_raw/results.csv\")\n",
    "races    = pd.read_csv(\"data_raw/races.csv\")\n",
    "circuits = pd.read_csv(\"data_raw/circuits.csv\")\n",
    "results[\"points col\"] = results[\"points\"]"
   ]
  },
  {
   "attachments": {},
   "cell_type": "markdown",
   "metadata": {},
   "source": [
    "# <span style=\"color:darkblue\"> II. Review Dataset Operations </span>\n",
    "\n",
    "<font size = \"5\">\n",
    "\n",
    "See attached file for a refresher on syntax\n",
    "\n",
    "```[] ``` $\\qquad \\qquad \\qquad \\quad$: Extracting columns <br>\n",
    "```.query() ``` $\\qquad \\qquad $: Subsetting rows <br>\n",
    "```.recode() ``` $ \\qquad \\quad \\ \\ $: Replacing values <br>\n",
    "```.groupby().agg() ```: Aggregate statistics by subgroup <br>\n",
    "```.rename() ``` $\\qquad \\quad \\ \\ $: Change name of columns\n",
    "\n",
    "Full list:\n",
    "\n",
    "<font size = \"4\">\n",
    "\n",
    "https://www.w3schools.com/python/pandas/pandas_ref_dataframe.asp"
   ]
  },
  {
   "attachments": {},
   "cell_type": "markdown",
   "metadata": {},
   "source": [
    "# <span style=\"color:darkblue\"> III. Examples of Chaining </span>\n",
    "\n",
    "<font size = \"5\">\n",
    "\n",
    "The operations with \".\" are read left to right\n",
    "\n",
    "- Combine any of the above operations\n",
    "- Great way to make code efficient\n",
    "- The sky's the limit!\n",
    "\n",
    "\n",
    "Subsetting **before** extracting columns"
   ]
  },
  {
   "cell_type": "code",
   "execution_count": 3,
   "metadata": {},
   "outputs": [
    {
     "data": {
      "text/html": [
       "<div>\n",
       "<style scoped>\n",
       "    .dataframe tbody tr th:only-of-type {\n",
       "        vertical-align: middle;\n",
       "    }\n",
       "\n",
       "    .dataframe tbody tr th {\n",
       "        vertical-align: top;\n",
       "    }\n",
       "\n",
       "    .dataframe thead th {\n",
       "        text-align: right;\n",
       "    }\n",
       "</style>\n",
       "<table border=\"1\" class=\"dataframe\">\n",
       "  <thead>\n",
       "    <tr style=\"text-align: right;\">\n",
       "      <th></th>\n",
       "      <th>driverId</th>\n",
       "      <th>points</th>\n",
       "    </tr>\n",
       "  </thead>\n",
       "  <tbody>\n",
       "    <tr>\n",
       "      <th>20320</th>\n",
       "      <td>4</td>\n",
       "      <td>25.0</td>\n",
       "    </tr>\n",
       "    <tr>\n",
       "      <th>20344</th>\n",
       "      <td>18</td>\n",
       "      <td>25.0</td>\n",
       "    </tr>\n",
       "    <tr>\n",
       "      <th>20368</th>\n",
       "      <td>20</td>\n",
       "      <td>25.0</td>\n",
       "    </tr>\n",
       "    <tr>\n",
       "      <th>20392</th>\n",
       "      <td>18</td>\n",
       "      <td>25.0</td>\n",
       "    </tr>\n",
       "    <tr>\n",
       "      <th>20416</th>\n",
       "      <td>17</td>\n",
       "      <td>25.0</td>\n",
       "    </tr>\n",
       "    <tr>\n",
       "      <th>...</th>\n",
       "      <td>...</td>\n",
       "      <td>...</td>\n",
       "    </tr>\n",
       "    <tr>\n",
       "      <th>25740</th>\n",
       "      <td>830</td>\n",
       "      <td>25.0</td>\n",
       "    </tr>\n",
       "    <tr>\n",
       "      <th>25760</th>\n",
       "      <td>830</td>\n",
       "      <td>25.0</td>\n",
       "    </tr>\n",
       "    <tr>\n",
       "      <th>25780</th>\n",
       "      <td>830</td>\n",
       "      <td>25.0</td>\n",
       "    </tr>\n",
       "    <tr>\n",
       "      <th>25800</th>\n",
       "      <td>847</td>\n",
       "      <td>26.0</td>\n",
       "    </tr>\n",
       "    <tr>\n",
       "      <th>25820</th>\n",
       "      <td>830</td>\n",
       "      <td>25.0</td>\n",
       "    </tr>\n",
       "  </tbody>\n",
       "</table>\n",
       "<p>262 rows × 2 columns</p>\n",
       "</div>"
      ],
      "text/plain": [
       "       driverId  points\n",
       "20320         4    25.0\n",
       "20344        18    25.0\n",
       "20368        20    25.0\n",
       "20392        18    25.0\n",
       "20416        17    25.0\n",
       "...         ...     ...\n",
       "25740       830    25.0\n",
       "25760       830    25.0\n",
       "25780       830    25.0\n",
       "25800       847    26.0\n",
       "25820       830    25.0\n",
       "\n",
       "[262 rows x 2 columns]"
      ]
     },
     "execution_count": 3,
     "metadata": {},
     "output_type": "execute_result"
    }
   ],
   "source": [
    "# Get data for drivers that scored more than 20 points on individual races\n",
    "# Then extract the columns \"driverId\" and \"points\"\n",
    "results.query('points >= 20')[[\"driverId\",\"points\"]]"
   ]
  },
  {
   "attachments": {},
   "cell_type": "markdown",
   "metadata": {},
   "source": [
    "<font size = \"5\">\n",
    "\n",
    "Subsetting **before** aggregating"
   ]
  },
  {
   "cell_type": "code",
   "execution_count": 4,
   "metadata": {},
   "outputs": [
    {
     "data": {
      "text/html": [
       "<div>\n",
       "<style scoped>\n",
       "    .dataframe tbody tr th:only-of-type {\n",
       "        vertical-align: middle;\n",
       "    }\n",
       "\n",
       "    .dataframe tbody tr th {\n",
       "        vertical-align: top;\n",
       "    }\n",
       "\n",
       "    .dataframe thead th {\n",
       "        text-align: right;\n",
       "    }\n",
       "</style>\n",
       "<table border=\"1\" class=\"dataframe\">\n",
       "  <thead>\n",
       "    <tr style=\"text-align: right;\">\n",
       "      <th></th>\n",
       "      <th>mean_points</th>\n",
       "    </tr>\n",
       "    <tr>\n",
       "      <th>constructorId</th>\n",
       "      <th></th>\n",
       "    </tr>\n",
       "  </thead>\n",
       "  <tbody>\n",
       "    <tr>\n",
       "      <th>1</th>\n",
       "      <td>3.148148</td>\n",
       "    </tr>\n",
       "    <tr>\n",
       "      <th>3</th>\n",
       "      <td>1.904924</td>\n",
       "    </tr>\n",
       "    <tr>\n",
       "      <th>4</th>\n",
       "      <td>1.903226</td>\n",
       "    </tr>\n",
       "    <tr>\n",
       "      <th>5</th>\n",
       "      <td>1.203911</td>\n",
       "    </tr>\n",
       "    <tr>\n",
       "      <th>6</th>\n",
       "      <td>4.910966</td>\n",
       "    </tr>\n",
       "    <tr>\n",
       "      <th>...</th>\n",
       "      <td>...</td>\n",
       "    </tr>\n",
       "    <tr>\n",
       "      <th>209</th>\n",
       "      <td>0.012821</td>\n",
       "    </tr>\n",
       "    <tr>\n",
       "      <th>210</th>\n",
       "      <td>0.809028</td>\n",
       "    </tr>\n",
       "    <tr>\n",
       "      <th>211</th>\n",
       "      <td>3.723684</td>\n",
       "    </tr>\n",
       "    <tr>\n",
       "      <th>213</th>\n",
       "      <td>2.327869</td>\n",
       "    </tr>\n",
       "    <tr>\n",
       "      <th>214</th>\n",
       "      <td>3.693182</td>\n",
       "    </tr>\n",
       "  </tbody>\n",
       "</table>\n",
       "<p>176 rows × 1 columns</p>\n",
       "</div>"
      ],
      "text/plain": [
       "               mean_points\n",
       "constructorId             \n",
       "1                 3.148148\n",
       "3                 1.904924\n",
       "4                 1.903226\n",
       "5                 1.203911\n",
       "6                 4.910966\n",
       "...                    ...\n",
       "209               0.012821\n",
       "210               0.809028\n",
       "211               3.723684\n",
       "213               2.327869\n",
       "214               3.693182\n",
       "\n",
       "[176 rows x 1 columns]"
      ]
     },
     "execution_count": 4,
     "metadata": {},
     "output_type": "execute_result"
    }
   ],
   "source": [
    "# This obtains a subset of drivers who competed in races 500 onwards\n",
    "# then computes the average by team (\"constructorId\")\n",
    "\n",
    "(results.query('raceId >= 500')\n",
    "        .groupby(\"constructorId\")\n",
    "        .agg(mean_points = (\"points\",\"mean\")))\n"
   ]
  },
  {
   "attachments": {},
   "cell_type": "markdown",
   "metadata": {},
   "source": [
    "<font size = \"5\">\n",
    "\n",
    "Subsetting **after** aggregating"
   ]
  },
  {
   "cell_type": "code",
   "execution_count": 5,
   "metadata": {},
   "outputs": [
    {
     "data": {
      "text/html": [
       "<div>\n",
       "<style scoped>\n",
       "    .dataframe tbody tr th:only-of-type {\n",
       "        vertical-align: middle;\n",
       "    }\n",
       "\n",
       "    .dataframe tbody tr th {\n",
       "        vertical-align: top;\n",
       "    }\n",
       "\n",
       "    .dataframe thead th {\n",
       "        text-align: right;\n",
       "    }\n",
       "</style>\n",
       "<table border=\"1\" class=\"dataframe\">\n",
       "  <thead>\n",
       "    <tr style=\"text-align: right;\">\n",
       "      <th></th>\n",
       "      <th>mean_points</th>\n",
       "    </tr>\n",
       "    <tr>\n",
       "      <th>constructorId</th>\n",
       "      <th></th>\n",
       "    </tr>\n",
       "  </thead>\n",
       "  <tbody>\n",
       "    <tr>\n",
       "      <th>131</th>\n",
       "      <td>12.363643</td>\n",
       "    </tr>\n",
       "  </tbody>\n",
       "</table>\n",
       "</div>"
      ],
      "text/plain": [
       "               mean_points\n",
       "constructorId             \n",
       "131              12.363643"
      ]
     },
     "execution_count": 5,
     "metadata": {},
     "output_type": "execute_result"
    }
   ],
   "source": [
    "# This obtains the average points by team (\"constructorId\"), then \n",
    "# produces a subset of team whose average is higher than 10\n",
    "\n",
    "(results.groupby(\"constructorId\")\n",
    "        .agg(mean_points = (\"points\",\"mean\"))\n",
    "        .query('mean_points >= 10'))"
   ]
  },
  {
   "attachments": {},
   "cell_type": "markdown",
   "metadata": {},
   "source": [
    "<font size = \"5\">\n",
    "\n",
    "Chaining inside queries + NaNs"
   ]
  },
  {
   "cell_type": "code",
   "execution_count": 6,
   "metadata": {},
   "outputs": [],
   "source": [
    "# \"is.na()\" produces a True/False vector, checking for missing values\n",
    "# \"is.notna()\" produces a True/False vector, checking for non-missing values\n",
    "# .str.isnumeric()\n",
    "results[\"points\"].isna()\n",
    "results[\"points\"].notna()\n",
    "\n",
    "subset_nas    = results.query('points.isna()')\n",
    "subset_nonnas = results.query('points.notna()')\n"
   ]
  },
  {
   "cell_type": "markdown",
   "metadata": {},
   "source": [
    "## <span style=\"color:darkblue\"> III. Quiz Structure </span>\n",
    "\n",
    "<font size = \"5\">\n",
    "\n",
    "The day of the quiz I will ...\n",
    "- Provide a dataset with information\n",
    "- Give more specific instructions.\n",
    "- Below, you will see the type of questions that will be asked.\n",
    "- The idea is for you to apply known concepts to new data\n",
    "- You have 50 minutes to complete the assignment\n",
    "\n",
    "Questions\n",
    "\n",
    "(exact wording may change in quiz, but exercise will be very similar)\n"
   ]
  },
  {
   "cell_type": "markdown",
   "metadata": {},
   "source": [
    "\n",
    "<font size = \"5\">\n",
    "\n",
    "(a) Replace the values of a column\n",
    "\n",
    "- Obtain unique string values of a column\n",
    "- Use the \".replace()\" command\n",
    "\n",
    "Hint: See Lecture 13"
   ]
  },
  {
   "cell_type": "code",
   "execution_count": 18,
   "metadata": {},
   "outputs": [
    {
     "name": "stdout",
     "output_type": "stream",
     "text": [
      "['Australian Grand Prix' 'Malaysian Grand Prix' 'Chinese Grand Prix'\n",
      " 'Bahrain Grand Prix' 'Spanish Grand Prix' 'Monaco Grand Prix'\n",
      " 'Turkish Grand Prix' 'British Grand Prix' 'German Grand Prix'\n",
      " 'Hungarian Grand Prix' 'European Grand Prix' 'Belgian Grand Prix'\n",
      " 'Italian Grand Prix' 'Singapore Grand Prix' 'Japanese Grand Prix'\n",
      " 'Brazilian Grand Prix' 'Abu Dhabi Grand Prix' 'Canadian Grand Prix'\n",
      " 'French Grand Prix' 'United States Grand Prix' 'San Marino Grand Prix'\n",
      " 'Austrian Grand Prix' 'Argentine Grand Prix' 'Luxembourg Grand Prix'\n",
      " 'Portuguese Grand Prix' 'Pacific Grand Prix' 'South African Grand Prix'\n",
      " 'Mexican Grand Prix' 'Korean Grand Prix' 'Detroit Grand Prix'\n",
      " 'Dutch Grand Prix' 'Dallas Grand Prix' 'United States Grand Prix West'\n",
      " 'Swiss Grand Prix' 'Caesars Palace Grand Prix' 'Swedish Grand Prix'\n",
      " 'Indianapolis 500' 'Moroccan Grand Prix' 'Pescara Grand Prix'\n",
      " 'Indian Grand Prix' 'Russian Grand Prix' 'Azerbaijan Grand Prix'\n",
      " 'Styrian Grand Prix' '70th Anniversary Grand Prix' 'Tuscan Grand Prix'\n",
      " 'Eifel Grand Prix' 'Emilia Romagna Grand Prix' 'Sakhir Grand Prix'\n",
      " 'Qatar Grand Prix' 'Mexico City Grand Prix' 'São Paulo Grand Prix'\n",
      " 'Saudi Arabian Grand Prix' 'Miami Grand Prix' 'Las Vegas Grand Prix']\n"
     ]
    }
   ],
   "source": [
    "subset      = races.query(\"name.str.isnumeric() == False\")\n",
    "list_unique = pd.unique(subset[\"name\"])\n",
    "print(list_unique)"
   ]
  },
  {
   "attachments": {},
   "cell_type": "markdown",
   "metadata": {},
   "source": [
    "<font size = \"5\">\n",
    "\n",
    "(b) Recode a numeric column\n",
    "\n",
    "- Use the \"pd.cut()\" command to create <br>\n",
    "a new column based on an interval.\n",
    "- See Lecture 14 for more details"
   ]
  },
  {
   "cell_type": "code",
   "execution_count": 19,
   "metadata": {},
   "outputs": [
    {
     "name": "stdout",
     "output_type": "stream",
     "text": [
      "['\\\\N']\n"
     ]
    }
   ],
   "source": [
    "subset1      = results.query(\"rank.str.isnumeric() == False\")\n",
    "list_unique1 = pd.unique(subset1[\"rank\"])\n",
    "print(list_unique1)"
   ]
  },
  {
   "cell_type": "code",
   "execution_count": 24,
   "metadata": {},
   "outputs": [
    {
     "name": "stdout",
     "output_type": "stream",
     "text": [
      "   resultId  raceId  driverId  constructorId number  grid position  \\\n",
      "0         1      18         1              1     22     1        1   \n",
      "1         2      18         2              2      3     5        2   \n",
      "2         3      18         3              3      7     7        3   \n",
      "3         4      18         4              4      5    11        4   \n",
      "4         5      18         5              1     23     3        5   \n",
      "\n",
      "  positionText  positionOrder  points  ...  milliseconds fastestLap rank  \\\n",
      "0            1              1    10.0  ...       5690616         39    2   \n",
      "1            2              2     8.0  ...       5696094         41    3   \n",
      "2            3              3     6.0  ...       5698779         41    5   \n",
      "3            4              4     5.0  ...       5707797         58    7   \n",
      "4            5              5     4.0  ...       5708630         43    1   \n",
      "\n",
      "  fastestLapTime fastestLapSpeed statusId points col  ranko  ranknum ranking  \n",
      "0       1:27.452         218.300        1       10.0      2      2.0  Top 10  \n",
      "1       1:27.739         217.586        1        8.0      3      3.0  Top 10  \n",
      "2       1:28.090         216.719        1        6.0      5      5.0  Top 10  \n",
      "3       1:28.603         215.464        1        5.0      7      7.0  Top 10  \n",
      "4       1:27.418         218.385        1        4.0      1      1.0  Top 10  \n",
      "\n",
      "[5 rows x 22 columns]\n"
     ]
    }
   ],
   "source": [
    "subset1      = results.query(\"rank.str.isnumeric() == False\")\n",
    "list_unique1 = pd.unique(subset1[\"rank\"])\n",
    "list_old = ['\\\\N']\n",
    "list_new = [np.nan]\n",
    "results[\"ranko\"] = results[\"rank\"].replace(list_old, list_new)\n",
    "\n",
    "\n",
    "results[\"ranknum\"] = pd.to_numeric(results[\"ranko\"])\n",
    "\n",
    "bins_x = [0,10, 1000]\n",
    "labels_x = [\"Top 10\",\n",
    "            \"Not Top Ten\"]\n",
    "\n",
    "results[\"ranking\"] = pd.cut(results[\"ranknum\"],\n",
    "                              bins = bins_x,\n",
    "                              right = True,\n",
    "                              labels = labels_x)\n",
    "\n",
    "print(results.head())\n",
    "\n",
    "# Note: if we set bins_x = [float(\"-inf\"),2500, float(\"inf\")]\n",
    "#       then intervals are \"Less than or equal to 2500\" and \"Above 2500\"\n",
    "#       float(\"inf\") and float(\"-inf\") represent infinity and negative infinity\n",
    "#       The \"right\" command indicates that the right interval is\n",
    "#       \"less than or equal to\" or just \"less than\""
   ]
  },
  {
   "cell_type": "markdown",
   "metadata": {},
   "source": [
    "<font size = \"5\">\n",
    "\n",
    "(c) Aggregate and query\n",
    "\n",
    "- Use a combniation of the following commands <br>\n",
    "to produce a new dataset <br>\n",
    "``` .query() ``` <br>\n",
    "``` .groupby().agg() ``` <br>"
   ]
  },
  {
   "cell_type": "code",
   "execution_count": 27,
   "metadata": {},
   "outputs": [
    {
     "name": "stdout",
     "output_type": "stream",
     "text": [
      "                      mean_points  sd_points  min_points  max_points  \\\n",
      "raceId constructorId                                                   \n",
      "500    1                      0.0   0.000000         0.0         0.0   \n",
      "       3                      1.0   1.414214         0.0         2.0   \n",
      "       4                      4.5   6.363961         0.0         9.0   \n",
      "       6                      0.0   0.000000         0.0         0.0   \n",
      "       21                     0.5   0.707107         0.0         1.0   \n",
      "...                           ...        ...         ...         ...   \n",
      "1096   117                    2.5   2.121320         1.0         4.0   \n",
      "       131                    5.0   7.071068         0.0        10.0   \n",
      "       210                    0.0   0.000000         0.0         0.0   \n",
      "       213                    0.0   0.000000         0.0         0.0   \n",
      "       214                    3.0   4.242641         0.0         6.0   \n",
      "\n",
      "                      count_obs  \n",
      "raceId constructorId             \n",
      "500    1                      2  \n",
      "       3                      2  \n",
      "       4                      2  \n",
      "       6                      2  \n",
      "       21                     2  \n",
      "...                         ...  \n",
      "1096   117                    2  \n",
      "       131                    2  \n",
      "       210                    2  \n",
      "       213                    2  \n",
      "       214                    2  \n",
      "\n",
      "[6055 rows x 5 columns]\n"
     ]
    }
   ],
   "source": [
    "teamrace_agg = (results.query(\"raceId >= 500\")\n",
    "                       .groupby([\"raceId\",\"constructorId\"])\n",
    "                        .agg(mean_points = ('points','mean'),\n",
    "                             sd_points =   ('points','std'),\n",
    "                             min_points =  ('points','min'),\n",
    "                             max_points =  ('points','max'),\n",
    "                             count_obs   = ('points',len)))\n",
    "\n",
    "print(teamrace_agg)"
   ]
  },
  {
   "cell_type": "markdown",
   "metadata": {},
   "source": [
    "<font size = \"5\">\n",
    "\n",
    "(d) Aggregate and sort\n",
    "\n",
    "- Use a combniation of the following commands <br>\n",
    "to produce a new dataset <br>\n",
    "``` .groupby().agg() ``` <br>\n",
    "``` .sort_values() ```"
   ]
  },
  {
   "cell_type": "code",
   "execution_count": 28,
   "metadata": {},
   "outputs": [
    {
     "data": {
      "text/html": [
       "<div>\n",
       "<style scoped>\n",
       "    .dataframe tbody tr th:only-of-type {\n",
       "        vertical-align: middle;\n",
       "    }\n",
       "\n",
       "    .dataframe tbody tr th {\n",
       "        vertical-align: top;\n",
       "    }\n",
       "\n",
       "    .dataframe thead th {\n",
       "        text-align: right;\n",
       "    }\n",
       "</style>\n",
       "<table border=\"1\" class=\"dataframe\">\n",
       "  <thead>\n",
       "    <tr style=\"text-align: right;\">\n",
       "      <th></th>\n",
       "      <th>mean_points</th>\n",
       "    </tr>\n",
       "    <tr>\n",
       "      <th>constructorId</th>\n",
       "      <th></th>\n",
       "    </tr>\n",
       "  </thead>\n",
       "  <tbody>\n",
       "    <tr>\n",
       "      <th>131</th>\n",
       "      <td>12.363643</td>\n",
       "    </tr>\n",
       "    <tr>\n",
       "      <th>9</th>\n",
       "      <td>9.117816</td>\n",
       "    </tr>\n",
       "    <tr>\n",
       "      <th>23</th>\n",
       "      <td>5.058824</td>\n",
       "    </tr>\n",
       "    <tr>\n",
       "      <th>208</th>\n",
       "      <td>4.584416</td>\n",
       "    </tr>\n",
       "    <tr>\n",
       "      <th>6</th>\n",
       "      <td>4.317968</td>\n",
       "    </tr>\n",
       "    <tr>\n",
       "      <th>...</th>\n",
       "      <td>...</td>\n",
       "    </tr>\n",
       "    <tr>\n",
       "      <th>76</th>\n",
       "      <td>0.000000</td>\n",
       "    </tr>\n",
       "    <tr>\n",
       "      <th>77</th>\n",
       "      <td>0.000000</td>\n",
       "    </tr>\n",
       "    <tr>\n",
       "      <th>78</th>\n",
       "      <td>0.000000</td>\n",
       "    </tr>\n",
       "    <tr>\n",
       "      <th>130</th>\n",
       "      <td>0.000000</td>\n",
       "    </tr>\n",
       "    <tr>\n",
       "      <th>112</th>\n",
       "      <td>0.000000</td>\n",
       "    </tr>\n",
       "  </tbody>\n",
       "</table>\n",
       "<p>210 rows × 1 columns</p>\n",
       "</div>"
      ],
      "text/plain": [
       "               mean_points\n",
       "constructorId             \n",
       "131              12.363643\n",
       "9                 9.117816\n",
       "23                5.058824\n",
       "208               4.584416\n",
       "6                 4.317968\n",
       "...                    ...\n",
       "76                0.000000\n",
       "77                0.000000\n",
       "78                0.000000\n",
       "130               0.000000\n",
       "112               0.000000\n",
       "\n",
       "[210 rows x 1 columns]"
      ]
     },
     "execution_count": 28,
     "metadata": {},
     "output_type": "execute_result"
    }
   ],
   "source": [
    "constructor_agg = (results.groupby(\"constructorId\")\n",
    "                          .agg(mean_points = (\"points\",\"mean\"))\n",
    "                          .sort_values(\"mean_points\",ascending = False))\n",
    "\n",
    "\n",
    "constructor_agg"
   ]
  },
  {
   "cell_type": "markdown",
   "metadata": {},
   "source": [
    "<font size = \"5\">\n",
    "\n",
    "(e) Rename column\n",
    "\n",
    "- Create a dictionary\n",
    "- Rename one or more columns in a dataset <br>\n",
    "using the dictionary"
   ]
  },
  {
   "cell_type": "code",
   "execution_count": 30,
   "metadata": {},
   "outputs": [
    {
     "name": "stdout",
     "output_type": "stream",
     "text": [
      "['raceId' 'year' 'round_number' 'circuitId' 'name' 'date' 'time' 'url'\n",
      " 'fp1_date' 'fp1_time' 'fp2_date' 'fp2_time' 'fp3_date' 'fp3_time'\n",
      " 'quali_date' 'quali_time' 'sprint_date' 'sprint_time']\n"
     ]
    }
   ],
   "source": [
    "dict_rename_races = { \"round\": \"round_number\" }\n",
    "races = races.rename(columns = dict_rename_races)\n",
    "print(races.columns.values)"
   ]
  },
  {
   "cell_type": "markdown",
   "metadata": {},
   "source": [
    "<font size = \"5\">\n",
    "\n",
    "(f) Merge dataset\n",
    "\n",
    "- Use \"pd.merge\" to combine two datasets: <br>\n",
    "a primary and secondary\n",
    "- Only merge a subset of the columns of the <br>\n",
    "secondary dataset\n",
    "- Use \"display\" to show a the merged dataset,  <br>\n",
    "extracting a subset of the columns"
   ]
  },
  {
   "cell_type": "code",
   "execution_count": 42,
   "metadata": {},
   "outputs": [
    {
     "name": "stdout",
     "output_type": "stream",
     "text": [
      "      raceId  year  round  circuitId                    name_x        date  \\\n",
      "0          1  2009      1          1     Australian Grand Prix  2009-03-29   \n",
      "1          2  2009      2          2      Malaysian Grand Prix  2009-04-05   \n",
      "2          3  2009      3         17        Chinese Grand Prix  2009-04-19   \n",
      "3          4  2009      4          3        Bahrain Grand Prix  2009-04-26   \n",
      "4          5  2009      5          4        Spanish Grand Prix  2009-05-10   \n",
      "...      ...   ...    ...        ...                       ...         ...   \n",
      "1097    1116  2023     19         69  United States Grand Prix  2023-10-22   \n",
      "1098    1117  2023     20         32    Mexico City Grand Prix  2023-10-29   \n",
      "1099    1118  2023     21         18      São Paulo Grand Prix  2023-11-05   \n",
      "1100    1119  2023     22         80      Las Vegas Grand Prix  2023-11-19   \n",
      "1101    1120  2023     23         24      Abu Dhabi Grand Prix  2023-11-26   \n",
      "\n",
      "          time                                                url    fp1_date  \\\n",
      "0     06:00:00  http://en.wikipedia.org/wiki/2009_Australian_G...          \\N   \n",
      "1     09:00:00  http://en.wikipedia.org/wiki/2009_Malaysian_Gr...          \\N   \n",
      "2     07:00:00  http://en.wikipedia.org/wiki/2009_Chinese_Gran...          \\N   \n",
      "3     12:00:00  http://en.wikipedia.org/wiki/2009_Bahrain_Gran...          \\N   \n",
      "4     12:00:00  http://en.wikipedia.org/wiki/2009_Spanish_Gran...          \\N   \n",
      "...        ...                                                ...         ...   \n",
      "1097  19:00:00  https://en.wikipedia.org/wiki/2023_United_Stat...  2023-10-20   \n",
      "1098  20:00:00  https://en.wikipedia.org/wiki/2023_Mexico_City...  2023-10-27   \n",
      "1099  17:00:00  https://en.wikipedia.org/wiki/2023_S%C3%A3o_Pa...  2023-11-03   \n",
      "1100  06:00:00  https://en.wikipedia.org/wiki/2023_Las_Vegas_G...  2023-11-17   \n",
      "1101  13:00:00  https://en.wikipedia.org/wiki/2023_Abu_Dhabi_G...  2023-11-24   \n",
      "\n",
      "      fp1_time    fp2_date  fp2_time    fp3_date  fp3_time  quali_date  \\\n",
      "0           \\N          \\N        \\N          \\N        \\N          \\N   \n",
      "1           \\N          \\N        \\N          \\N        \\N          \\N   \n",
      "2           \\N          \\N        \\N          \\N        \\N          \\N   \n",
      "3           \\N          \\N        \\N          \\N        \\N          \\N   \n",
      "4           \\N          \\N        \\N          \\N        \\N          \\N   \n",
      "...        ...         ...       ...         ...       ...         ...   \n",
      "1097  17:30:00  2023-10-21  18:00:00          \\N        \\N  2023-10-20   \n",
      "1098  18:30:00  2023-10-27  22:00:00  2023-10-28  17:30:00  2023-10-28   \n",
      "1099  14:30:00  2023-11-04  14:30:00          \\N        \\N  2023-11-03   \n",
      "1100  04:30:00  2023-11-17  08:00:00  2023-11-18  04:30:00  2023-11-18   \n",
      "1101  09:30:00  2023-11-24  13:00:00  2023-11-25  10:30:00  2023-11-25   \n",
      "\n",
      "     quali_time sprint_date sprint_time                          name_y  \n",
      "0            \\N          \\N          \\N  Albert Park Grand Prix Circuit  \n",
      "1            \\N          \\N          \\N    Sepang International Circuit  \n",
      "2            \\N          \\N          \\N  Shanghai International Circuit  \n",
      "3            \\N          \\N          \\N   Bahrain International Circuit  \n",
      "4            \\N          \\N          \\N  Circuit de Barcelona-Catalunya  \n",
      "...         ...         ...         ...                             ...  \n",
      "1097   21:00:00  2023-10-21    22:00:00         Circuit of the Americas  \n",
      "1098   21:00:00          \\N          \\N    Autódromo Hermanos Rodríguez  \n",
      "1099   18:00:00  2023-11-04    18:30:00      Autódromo José Carlos Pace  \n",
      "1100   08:00:00          \\N          \\N  Las Vegas Strip Street Circuit  \n",
      "1101   14:00:00          \\N          \\N              Yas Marina Circuit  \n",
      "\n",
      "[1102 rows x 19 columns]\n"
     ]
    }
   ],
   "source": [
    "# The \"pd.merge()\" command combines the information from both datasets\n",
    "# The first argument is the \"primary\" datasets\n",
    "# The second argument is the \"secondary\" dataset (much include the \"on\" column)\n",
    "# The \"on\" is the common variable that is used for merging\n",
    "# how = \"left\" tells Python that the left dataset is the primary one\n",
    "\n",
    "races_merge_pitfall = pd.merge(races,\n",
    "                               circuits[[\"circuitId\",\"name\"]],\n",
    "                               on = \"circuitId\",\n",
    "                               how = \"left\")\n",
    "\n",
    "print(races_merge_pitfall)"
   ]
  }
 ],
 "metadata": {
  "kernelspec": {
   "display_name": "base",
   "language": "python",
   "name": "python3"
  },
  "language_info": {
   "codemirror_mode": {
    "name": "ipython",
    "version": 3
   },
   "file_extension": ".py",
   "mimetype": "text/x-python",
   "name": "python",
   "nbconvert_exporter": "python",
   "pygments_lexer": "ipython3",
   "version": "3.11.0"
  },
  "orig_nbformat": 4,
  "vscode": {
   "interpreter": {
    "hash": "45fc1f684f6f416f40889115beff3ddf69879b64cf4bfee48cb72a61e9d15d1a"
   }
  }
 },
 "nbformat": 4,
 "nbformat_minor": 2
}
