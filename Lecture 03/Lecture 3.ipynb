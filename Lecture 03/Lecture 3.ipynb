{
 "cells": [
  {
   "attachments": {},
   "cell_type": "markdown",
   "metadata": {},
   "source": [
    "# <span style=\"color:darkblue\"> Lecture 3: Mathematical Operations and Random Numbers </span>"
   ]
  },
  {
   "attachments": {},
   "cell_type": "markdown",
   "metadata": {},
   "source": [
    "<font size=\"5\"> \n",
    "\n",
    "In the previous class we:\n",
    "- Introduced lists and variable types\n",
    "- Talked about how to extract elements from a list"
   ]
  },
  {
   "attachments": {},
   "cell_type": "markdown",
   "metadata": {},
   "source": [
    "<font size=\"5\"> \n",
    "\n",
    "In this class we will:\n",
    "\n",
    "- Introduce a library for general mathematical operations\n",
    "- Generate random numbers\n",
    "- (Optional) Matrix operations"
   ]
  },
  {
   "attachments": {},
   "cell_type": "markdown",
   "metadata": {},
   "source": [
    "## <span style=\"color:darkblue\"> I. Import Libraries </span>"
   ]
  },
  {
   "cell_type": "code",
   "execution_count": 1,
   "metadata": {},
   "outputs": [],
   "source": [
    "# the \"numPy\" library is used for mathematical operations\n",
    "# the \"matplotlib\" library is for generating graphs\n",
    "\n",
    "import numpy as np\n",
    "import matplotlib.pyplot as plt\n"
   ]
  },
  {
   "attachments": {},
   "cell_type": "markdown",
   "metadata": {},
   "source": [
    "##  <span style=\"color:darkblue\"> II. Numbers and Functions </span>"
   ]
  },
  {
   "attachments": {},
   "cell_type": "markdown",
   "metadata": {},
   "source": [
    "<font size = \"5\" >\n",
    "Examples of numPy numbers"
   ]
  },
  {
   "cell_type": "code",
   "execution_count": 2,
   "metadata": {},
   "outputs": [
    {
     "data": {
      "text/plain": [
       "3.141592653589793"
      ]
     },
     "execution_count": 2,
     "metadata": {},
     "output_type": "execute_result"
    }
   ],
   "source": [
    "# Computes \"pi\" (3.14...)\n",
    "\n",
    "np.pi"
   ]
  },
  {
   "attachments": {},
   "cell_type": "markdown",
   "metadata": {},
   "source": [
    "<font size = \"5\" >\n",
    "\n",
    "Examples of numPy functions\n",
    "\n",
    "$ ln(x), e^x, sin(x), cos(x), \\sqrt{x}$"
   ]
  },
  {
   "cell_type": "code",
   "execution_count": 3,
   "metadata": {},
   "outputs": [
    {
     "name": "stdout",
     "output_type": "stream",
     "text": [
      "0.0\n",
      "2.718281828459045\n",
      "0.8414709848078965\n",
      "0.5403023058681398\n",
      "1.0\n"
     ]
    }
   ],
   "source": [
    "# log(x) computes the logarithm with base \"e\" (Euler constant)\n",
    "# exp(x) compute the Euler constant raised to the power of \"x\"\n",
    "# sing(x) computes the sine of x\n",
    "# cos(x) computes the cosine of x\n",
    "# In this example, we're substituting x = 1\n",
    "\n",
    "print(np.log(1))\n",
    "print(np.exp(1))\n",
    "print(np.sin(1))\n",
    "print(np.cos(1))\n",
    "print(np.sqrt(1))"
   ]
  },
  {
   "attachments": {},
   "cell_type": "markdown",
   "metadata": {},
   "source": [
    "<font size = \"5\">\n",
    "\n",
    "Try it yourself!\n",
    "\n",
    "- Create a new variable, $x = 5$\n",
    "- Compute $\\pi x^2$\n",
    "- Compute $ \\frac{1}{\\sqrt{2\\pi}}e^{-x^2} $"
   ]
  },
  {
   "cell_type": "code",
   "execution_count": 22,
   "metadata": {},
   "outputs": [
    {
     "name": "stdout",
     "output_type": "stream",
     "text": [
      "78.53981633974483\n",
      "5.540487995575833e-12\n"
     ]
    }
   ],
   "source": [
    "# Include your answer here:\n",
    "x = 5\n",
    "v = np.pi\n",
    "print(np.pi * x**2)\n",
    "print(1/np.sqrt(2*v) * np.exp(-1*x**2))\n",
    "\n",
    "\n",
    "\n"
   ]
  },
  {
   "attachments": {},
   "cell_type": "markdown",
   "metadata": {},
   "source": [
    "##  <span style=\"color:darkblue\"> III. Vector Arrays </span>"
   ]
  },
  {
   "attachments": {},
   "cell_type": "markdown",
   "metadata": {},
   "source": [
    "<font size = \"5\">\n",
    "Create an array from a list\n",
    "\n",
    "$ \\text{ }$\n",
    "$ a = \\begin{pmatrix} 1 \\\\ 2 \\\\ 3 \\end{pmatrix}\n",
    "\\qquad b = \\begin{pmatrix} 0 \\\\ 1 \\\\ 0\\end{pmatrix}\n",
    "\\qquad c = \\begin{pmatrix} 10 \\\\ 100 \\\\ 1000 \\\\ 2000 \\\\ 5000 \\end{pmatrix} \n",
    "\\qquad d = \\begin{pmatrix} 4 \\\\ 2 \\end{pmatrix} $"
   ]
  },
  {
   "cell_type": "code",
   "execution_count": 18,
   "metadata": {},
   "outputs": [],
   "source": [
    "# You create an array by converting a list [1,2,3] to a numeric object\n",
    "# \"array\" is a subfunction of the library numPy.\n",
    "\n",
    "vec_a  = np.array([1,2,3])\n",
    "vec_b  = np.array([0,1,0])\n",
    "vec_c  = np.array([10,100,1000,2000,5000])\n"
   ]
  },
  {
   "attachments": {},
   "cell_type": "markdown",
   "metadata": {},
   "source": [
    "<font size = \"5\">\n",
    "\n",
    "Accessing an element of an array"
   ]
  },
  {
   "cell_type": "code",
   "execution_count": 19,
   "metadata": {},
   "outputs": [
    {
     "name": "stdout",
     "output_type": "stream",
     "text": [
      "1\n",
      "3\n"
     ]
    }
   ],
   "source": [
    "# Arrays, like lists, start their numbering at zero.\n",
    "# You also access them with square brackets\n",
    "\n",
    "print(vec_a[0])\n",
    "print(vec_a[2])\n"
   ]
  },
  {
   "attachments": {},
   "cell_type": "markdown",
   "metadata": {},
   "source": [
    "<font size = \"5\">\n",
    "Operations with a single array and a scalar"
   ]
  },
  {
   "attachments": {},
   "cell_type": "markdown",
   "metadata": {},
   "source": [
    "<font size = \"5\">\n",
    "\n",
    "$ a + 2 = \\begin{pmatrix} a_1 + 2 \\\\ a_2 + 2 \\\\ a_3 + 2 \\end{pmatrix}$"
   ]
  },
  {
   "cell_type": "code",
   "execution_count": 20,
   "metadata": {},
   "outputs": [
    {
     "name": "stdout",
     "output_type": "stream",
     "text": [
      "[2 4 6]\n",
      "[0.5 1.  1.5]\n",
      "[3 4 5]\n",
      "[1 4 9]\n"
     ]
    }
   ],
   "source": [
    "# A scalar refers to either an int or float\n",
    "# We can do many common operations with \n",
    "\n",
    "print(vec_a * 2)\n",
    "print(vec_a / 2)\n",
    "print(vec_a + 2)\n",
    "print(vec_a ** 2)"
   ]
  },
  {
   "attachments": {},
   "cell_type": "markdown",
   "metadata": {},
   "source": [
    "<font size = \"5\">\n",
    "Element-by-element addition between two arrays of the same size\n",
    "\n",
    "$\\text{ }$\n",
    "\n",
    "$ a + b = \\begin{pmatrix} a_1 \\\\ a_2 \\\\ a_3 \\end{pmatrix} +\n",
    "          \\begin{pmatrix} b_1 \\\\ b_2 \\\\ b_3 \\end{pmatrix} =\n",
    "          \\begin{pmatrix} a_1 + b_1 \\\\ a_2 + b_2 \\\\ a_3 + b_3 \\end{pmatrix}$"
   ]
  },
  {
   "cell_type": "code",
   "execution_count": 23,
   "metadata": {},
   "outputs": [
    {
     "name": "stdout",
     "output_type": "stream",
     "text": [
      "[1 3 3]\n"
     ]
    }
   ],
   "source": [
    "# When you add two arrays of the same size,\n",
    "# Python adds the individual elements in each position\n",
    "\n",
    "print(vec_a + vec_b)\n"
   ]
  },
  {
   "attachments": {},
   "cell_type": "markdown",
   "metadata": {},
   "source": [
    "<font size =\"5\">\n",
    "\n",
    "The default multiplication option is element-by element:\n",
    "\n",
    "$ a * b = \\begin{pmatrix} a_1 * b_1 \\\\ a_2 * b_2 \\\\ a_3 * b_3 \\end{pmatrix}$"
   ]
  },
  {
   "cell_type": "code",
   "execution_count": 24,
   "metadata": {},
   "outputs": [
    {
     "name": "stdout",
     "output_type": "stream",
     "text": [
      "[0 2 0]\n",
      "[1 1 3]\n",
      "[inf  2. inf]\n"
     ]
    },
    {
     "name": "stderr",
     "output_type": "stream",
     "text": [
      "/var/folders/__/gyy9gxwx33v336hzgn9m_4zr0000gn/T/ipykernel_35327/3839639845.py:6: RuntimeWarning: divide by zero encountered in divide\n",
      "  print(vec_a / vec_b)\n"
     ]
    }
   ],
   "source": [
    "# We can do other similar element-by-element operations\n",
    "# such as multiplication, subtraction, and division.\n",
    "\n",
    "print(vec_a * vec_b)\n",
    "print(vec_a - vec_b)\n",
    "print(vec_a / vec_b)\n"
   ]
  },
  {
   "attachments": {},
   "cell_type": "markdown",
   "metadata": {},
   "source": [
    "<font size = \"5\">\n",
    "Summary statistics of an array"
   ]
  },
  {
   "cell_type": "code",
   "execution_count": 25,
   "metadata": {},
   "outputs": [
    {
     "name": "stdout",
     "output_type": "stream",
     "text": [
      "2.0\n",
      "0.816496580927726\n",
      "1\n",
      "2.0\n",
      "3\n"
     ]
    }
   ],
   "source": [
    "# The function np.mean() computes the mean of an array\n",
    "# We can do similar operations for the standard deviation (std),\n",
    "# the minimum (min), the median (median), and the maximum (max).\n",
    "\n",
    "print(np.mean(vec_a))\n",
    "print(np.std(vec_a))\n",
    "print(np.min(vec_a))\n",
    "print(np.median(vec_a))\n",
    "print(np.max(vec_a))"
   ]
  },
  {
   "attachments": {},
   "cell_type": "markdown",
   "metadata": {},
   "source": [
    "<font size = \"5\">\n",
    "\n",
    "Try it yourself! Compute the mean of\n",
    "\n",
    "\n",
    "$ e = \\begin{pmatrix} 10 \\\\ 8 \\\\ 15 \\\\ 0 \\\\ 24 \\end{pmatrix} $"
   ]
  },
  {
   "cell_type": "code",
   "execution_count": 44,
   "metadata": {},
   "outputs": [
    {
     "name": "stdout",
     "output_type": "stream",
     "text": [
      "[10  8 15  0 24]\n",
      "11.4\n",
      "7.939773296511683\n",
      "24\n",
      "10.0\n",
      "0\n"
     ]
    }
   ],
   "source": [
    "# Create your own array and compute any of the above summary statistics\n",
    "arr = np.array([10,8,15,0,24])\n",
    "print(arr)\n",
    "print(np.mean(arr))\n",
    "print(np.std(arr))\n",
    "print(np.max(arr))\n",
    "print(np.median(arr))\n",
    "print(np.min(arr))"
   ]
  },
  {
   "attachments": {},
   "cell_type": "markdown",
   "metadata": {},
   "source": [
    "<font size = \"5\">\n",
    "<span style=\"color:red\"> Common Pitfall </span>: Make sure that the arrays have the same size"
   ]
  },
  {
   "cell_type": "code",
   "execution_count": 14,
   "metadata": {},
   "outputs": [
    {
     "ename": "ValueError",
     "evalue": "operands could not be broadcast together with shapes (3,) (5,) ",
     "output_type": "error",
     "traceback": [
      "\u001b[0;31m---------------------------------------------------------------------------\u001b[0m",
      "\u001b[0;31mValueError\u001b[0m                                Traceback (most recent call last)",
      "Cell \u001b[0;32mIn[14], line 3\u001b[0m\n\u001b[1;32m      1\u001b[0m \u001b[39m# Here I try to combine two arrays of different size.\u001b[39;00m\n\u001b[0;32m----> 3\u001b[0m vec_a \u001b[39m+\u001b[39;49m vec_c\n",
      "\u001b[0;31mValueError\u001b[0m: operands could not be broadcast together with shapes (3,) (5,) "
     ]
    }
   ],
   "source": [
    "# Here I try to combine two arrays of different size.\n",
    "\n",
    "vec_a + vec_c"
   ]
  },
  {
   "attachments": {},
   "cell_type": "markdown",
   "metadata": {},
   "source": [
    "##  <span style=\"color:darkblue\"> IV. Random Numbers </span>\n",
    "\n",
    "<font size = \"5\">\n",
    "\n",
    "Why randomness?\n",
    "\n",
    "- Simulate different scenarios: high risk or low risk\n",
    "- Study properties of a complex system and/or estimator\n",
    "- In medicine, randomly assign subjects to treatment or control"
   ]
  },
  {
   "attachments": {},
   "cell_type": "markdown",
   "metadata": {},
   "source": [
    "<font size = \"5\">\n",
    "\n",
    "Create a vector of random variables"
   ]
  },
  {
   "cell_type": "code",
   "execution_count": 30,
   "metadata": {},
   "outputs": [
    {
     "name": "stdout",
     "output_type": "stream",
     "text": [
      "[1.94491706 0.86249663]\n"
     ]
    }
   ],
   "source": [
    "# This code creates a vector of random variables \n",
    "# generated from a normal distribution with\n",
    "# mean \"loc\" (location) and standard deviation \"scale\"\n",
    "# the number of distinct variabels is \"size\"\n",
    "\n",
    "randomvar_a = np.random.normal(loc=0, scale=1, size=2)\n",
    "print(randomvar_a)"
   ]
  },
  {
   "attachments": {},
   "cell_type": "markdown",
   "metadata": {},
   "source": [
    "<font size = \"5\">\n",
    "\n",
    "Random numbers differ every time!\n",
    "\n",
    "- Avoid this problem by drawing from a \"pregenerated\" set.\n",
    "- This is called a seed"
   ]
  },
  {
   "cell_type": "code",
   "execution_count": 34,
   "metadata": {},
   "outputs": [
    {
     "name": "stdout",
     "output_type": "stream",
     "text": [
      "[-0.20470766  0.47894334 -0.51943872 -0.5557303   1.96578057  1.39340583\n",
      "  0.09290788  0.28174615  0.76902257  1.24643474]\n"
     ]
    }
   ],
   "source": [
    "# Your computer will typically generate different numbers every time you run a command\n",
    "# However, sometimes you want to be able to replicate the results\n",
    "# You can choose any other number instead of \"12345\". This will produce another set\n",
    "# of random numbers, but they will give the same answers\n",
    "\n",
    "np.random.seed(12345)\n",
    "\n",
    "random_var_b = np.random.normal(loc=0, scale=1, size=10)\n",
    "print(random_var_b)"
   ]
  },
  {
   "attachments": {},
   "cell_type": "markdown",
   "metadata": {},
   "source": [
    "<font size = \"5\">\n",
    "\n",
    "Compute a histogram with the results"
   ]
  },
  {
   "cell_type": "code",
   "execution_count": 35,
   "metadata": {},
   "outputs": [
    {
     "data": {
      "text/plain": [
       "Text(0, 0.5, 'Frequency')"
      ]
     },
     "execution_count": 35,
     "metadata": {},
     "output_type": "execute_result"
    },
    {
     "data": {
      "image/png": "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",
      "text/plain": [
       "<Figure size 640x480 with 1 Axes>"
      ]
     },
     "metadata": {},
     "output_type": "display_data"
    }
   ],
   "source": [
    "# Compute a histogram\n",
    "# You can edit the number of bins with plt.hist(x = randomvar_a)\n",
    "\n",
    "randomvar_x = np.random.normal(loc=0, scale=1, size=10)\n",
    "\n",
    "plt.hist(x = randomvar_x)\n",
    "plt.xlabel(\"Variable a\")\n",
    "plt.ylabel(\"Frequency\")"
   ]
  },
  {
   "attachments": {},
   "cell_type": "markdown",
   "metadata": {},
   "source": [
    "<font size = \"5\">\n",
    "\n",
    "Try this again with $size = 100, 1000, 10000$"
   ]
  },
  {
   "cell_type": "code",
   "execution_count": 43,
   "metadata": {},
   "outputs": [
    {
     "data": {
      "text/plain": [
       "Text(0, 0.5, 'Frequency')"
      ]
     },
     "execution_count": 43,
     "metadata": {},
     "output_type": "execute_result"
    },
    {
     "data": {
      "image/png": "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",
      "text/plain": [
       "<Figure size 640x480 with 1 Axes>"
      ]
     },
     "metadata": {},
     "output_type": "display_data"
    }
   ],
   "source": [
    "# Write the code for your histogram\n",
    "randomvar_a = np.random.normal(loc=0, scale=1, size=100)\n",
    "plt1 = plt.hist(x = randomvar_a)\n",
    "plt1 = plt.xlabel(\"Variable a\")\n",
    "plt.ylabel(\"Frequency\")\n",
    "\n",
    "randomvar_b = np.random.normal(loc=0, scale=1, size=1000)\n",
    "plt2 = plt.hist(x = randomvar_b)\n",
    "plt.xlabel(\"Variable b\")\n",
    "plt.ylabel(\"Frequency\")\n",
    "\n",
    "randomvar_c = np.random.normal(loc=0, scale=1, size=10000)\n",
    "plt3 = plt.hist(x = randomvar_c)\n",
    "plt.xlabel(\"Variable c\")\n",
    "plt.ylabel(\"Frequency\")\n"
   ]
  },
  {
   "attachments": {},
   "cell_type": "markdown",
   "metadata": {},
   "source": [
    "# <span style=\"color:darkblue\"> Additional Resources </span>\n",
    "\n",
    "<font size=\"5\"> \n",
    "\n",
    "Check out additional examples at:\n",
    "\n",
    "- https://allendowney.github.io/ElementsOfDataScience/03_arrays.html\n",
    "\n",
    "\n"
   ]
  },
  {
   "attachments": {},
   "cell_type": "markdown",
   "metadata": {},
   "source": [
    "# <span style=\"color:darkblue\"> (Optional) Matrix Operations </span>\n",
    "\n",
    "<font size=\"5\"> \n"
   ]
  },
  {
   "attachments": {},
   "cell_type": "markdown",
   "metadata": {},
   "source": [
    "<font size = \"5\">\n",
    "Creating a matrix by stacking different rows\n",
    "\n",
    "$ \\text{ }$\n",
    "\n",
    "$ X = \\begin{pmatrix} 1 & 2 & 3 \\\\ \n",
    "                       0 & 4 & 5 \\\\\n",
    "                       0 & 0 & 6\n",
    "                       \\end{pmatrix} $"
   ]
  },
  {
   "cell_type": "code",
   "execution_count": 13,
   "metadata": {},
   "outputs": [
    {
     "name": "stdout",
     "output_type": "stream",
     "text": [
      "[[1 2 3]\n",
      " [0 4 5]\n",
      " [0 0 6]]\n"
     ]
    }
   ],
   "source": [
    "# Matrices are usually denoted by capital letters\n",
    "# The object [[1,2,3],[4,5,6],[7,8,9]] is a list of lists\n",
    "# It's useful to maintain this notation in the code as well\n",
    "\n",
    "X = np.array([[1,2,3],[0,4,5],[0,0,6]])\n",
    "print(X)"
   ]
  },
  {
   "attachments": {},
   "cell_type": "markdown",
   "metadata": {},
   "source": [
    "<font size = \"5\">\n",
    "Creating a matrix by stacking different columns\n",
    "\n",
    "$ \\text{ } $\n",
    "\n",
    "$ Y = \\begin{pmatrix} 1 & 2 \\\\ 0 & 1 \\\\ 1 & 0 \\end{pmatrix}$"
   ]
  },
  {
   "cell_type": "code",
   "execution_count": 14,
   "metadata": {},
   "outputs": [
    {
     "name": "stdout",
     "output_type": "stream",
     "text": [
      "[[1 2]\n",
      " [0 1]\n",
      " [1 0]]\n"
     ]
    }
   ],
   "source": [
    "# You can also stack columns\n",
    "Y =  np.column_stack([[1,0,1],[2,1,0]])\n",
    "print(Y)"
   ]
  },
  {
   "attachments": {},
   "cell_type": "markdown",
   "metadata": {},
   "source": [
    "<font size = \"5\">\n",
    "Transpose\n",
    "\n",
    "$ \\text{ }$\n",
    "\n",
    "$ Y' = \\begin{pmatrix}  1 & 0 & 1 \\\\ 2 & 1 & 0  \\end{pmatrix} $"
   ]
  },
  {
   "cell_type": "code",
   "execution_count": 15,
   "metadata": {},
   "outputs": [
    {
     "data": {
      "text/plain": [
       "array([[1, 0, 1],\n",
       "       [2, 1, 0]])"
      ]
     },
     "execution_count": 15,
     "metadata": {},
     "output_type": "execute_result"
    }
   ],
   "source": [
    "# Matrix Transpose\n",
    "np.matrix.transpose(Y)"
   ]
  },
  {
   "attachments": {},
   "cell_type": "markdown",
   "metadata": {},
   "source": [
    "<font size = \"5\">\n",
    "\n",
    "Matrix multiplication\n",
    "\n",
    "$ XY = \\begin{pmatrix} 1 & 2 & 3 \\\\ \n",
    "                       0 & 4 & 5 \\\\\n",
    "                       0 & 0 & 6\n",
    "                       \\end{pmatrix}\n",
    "                       \\begin{pmatrix} 1 & 2 \\\\ 0 & 1 \\\\ 1 & 0 \\end{pmatrix} = \n",
    "        \\begin{pmatrix} 4 & 4 \\\\ 5 & 4 \\\\ 6 & 0 \\end{pmatrix} $"
   ]
  },
  {
   "cell_type": "code",
   "execution_count": 34,
   "metadata": {},
   "outputs": [
    {
     "data": {
      "text/plain": [
       "array([[4, 4],\n",
       "       [5, 4],\n",
       "       [6, 0]])"
      ]
     },
     "execution_count": 34,
     "metadata": {},
     "output_type": "execute_result"
    }
   ],
   "source": [
    "# Matrix Multiplication\n",
    "\n",
    "np.dot(X,Y)\n",
    "\n",
    "np.matmul(X,Y)"
   ]
  },
  {
   "attachments": {},
   "cell_type": "markdown",
   "metadata": {},
   "source": [
    "<font size = \"5\">\n",
    "\n",
    "Matrix inverse\n",
    "\n",
    "$ X^{-1} = \\begin{pmatrix} 1 & 2 & 3 \\\\ \n",
    "                       0 & 4 & 5 \\\\\n",
    "                       0 & 0 & 6\n",
    "                       \\end{pmatrix}^{-1} $"
   ]
  },
  {
   "cell_type": "code",
   "execution_count": 31,
   "metadata": {},
   "outputs": [
    {
     "name": "stdout",
     "output_type": "stream",
     "text": [
      "23.999999999999993\n",
      "[[ 1.         -0.5        -0.08333333]\n",
      " [ 0.          0.25       -0.20833333]\n",
      " [ 0.          0.          0.16666667]]\n",
      "[[ 1.00000000e+00  0.00000000e+00 -2.22044605e-16]\n",
      " [ 0.00000000e+00  1.00000000e+00  0.00000000e+00]\n",
      " [ 0.00000000e+00  0.00000000e+00  1.00000000e+00]]\n"
     ]
    }
   ],
   "source": [
    "# Check the determinant of a matrix (a matrix is invertible if the determinant is not zero)\n",
    "print(np.linalg.det(X))\n",
    "\n",
    "# Matrix inverse\n",
    "# The following command stands for linear algebrar inverse.\n",
    "X_inv = np.linalg.inv(X)\n",
    "\n",
    "# Output the result\n",
    "print(X_inv)\n"
   ]
  },
  {
   "attachments": {},
   "cell_type": "markdown",
   "metadata": {},
   "source": [
    "<font size = \"5\">\n",
    "\n",
    "Try it yourself! Check that this is indeed an inverse:\n",
    "\n",
    "$X X_{inv} = \\begin{pmatrix} 1 & 0 & 0 \\\\ 0 & 1 & 0 \\\\ 0 & 0 & 1 \\end{pmatrix}$"
   ]
  },
  {
   "cell_type": "code",
   "execution_count": 32,
   "metadata": {},
   "outputs": [
    {
     "name": "stdout",
     "output_type": "stream",
     "text": [
      "[[ 1.00000000e+00  0.00000000e+00 -2.22044605e-16]\n",
      " [ 0.00000000e+00  1.00000000e+00  0.00000000e+00]\n",
      " [ 0.00000000e+00  0.00000000e+00  1.00000000e+00]]\n"
     ]
    }
   ],
   "source": [
    "# Multiply \"X\" times \"X_inv\" using the command shown above\n",
    "# Note: Sometimes the result is shown in scientific notation.\n",
    "\n",
    "\n",
    "\n"
   ]
  }
 ],
 "metadata": {
  "kernelspec": {
   "display_name": "Python 3",
   "language": "python",
   "name": "python3"
  },
  "language_info": {
   "codemirror_mode": {
    "name": "ipython",
    "version": 3
   },
   "file_extension": ".py",
   "mimetype": "text/x-python",
   "name": "python",
   "nbconvert_exporter": "python",
   "pygments_lexer": "ipython3",
<<<<<<< Updated upstream
   "version": "3.11.0 (v3.11.0:deaf509e8f, Oct 24 2022, 14:43:23) [Clang 13.0.0 (clang-1300.0.29.30)]"
=======
   "version": "3.11.0"
>>>>>>> Stashed changes
  },
  "orig_nbformat": 4,
  "vscode": {
   "interpreter": {
    "hash": "aee8b7b246df8f9039afb4144a1f6fd8d2ca17a180786b69acc140d282b71a49"
   }
  }
 },
 "nbformat": 4,
 "nbformat_minor": 2
}
